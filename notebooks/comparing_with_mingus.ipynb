{
 "cells": [
  {
   "cell_type": "code",
   "execution_count": 66,
   "metadata": {},
   "outputs": [],
   "source": [
    "from mingus.core import *\n",
    "from itertools import combinations, combinations_with_replacement\n",
    "\n",
    "def pairs(it):\n",
    "    return list(combinations(it, 2))"
   ]
  },
  {
   "cell_type": "code",
   "execution_count": 28,
   "metadata": {},
   "outputs": [
    {
     "data": {
      "text/plain": [
       "False"
      ]
     },
     "execution_count": 28,
     "metadata": {},
     "output_type": "execute_result"
    }
   ],
   "source": [
    "intervals.from_shorthand(\"C\", \"#9\")"
   ]
  },
  {
   "cell_type": "code",
   "execution_count": 51,
   "metadata": {},
   "outputs": [],
   "source": [
    "scale = [\"C\", \"D\", \"E\", \"F\", \"G\", \"A\", \"B\"]"
   ]
  },
  {
   "cell_type": "code",
   "execution_count": 74,
   "metadata": {},
   "outputs": [
    {
     "data": {
      "text/plain": [
       "{'C': ['C', 'D', 'E', 'F', 'G', 'A', 'B'],\n",
       " 'D': ['D', 'E', 'F', 'G', 'A', 'B', 'C'],\n",
       " 'E': ['E', 'F', 'G', 'A', 'B', 'C', 'D'],\n",
       " 'F': ['F', 'G', 'A', 'B', 'C', 'D', 'E'],\n",
       " 'G': ['G', 'A', 'B', 'C', 'D', 'E', 'F'],\n",
       " 'A': ['A', 'B', 'C', 'D', 'E', 'F', 'G'],\n",
       " 'B': ['B', 'C', 'D', 'E', 'F', 'G', 'A']}"
      ]
     },
     "execution_count": 74,
     "metadata": {},
     "output_type": "execute_result"
    }
   ],
   "source": [
    "tensions = {n1: [n2 for n2 in scale[k:] + scale[:k]] for k,n1 in enumerate(scale)}\n",
    "tensions"
   ]
  },
  {
   "cell_type": "code",
   "execution_count": 100,
   "metadata": {
    "scrolled": false
   },
   "outputs": [
    {
     "data": {
      "text/plain": [
       "[('C', ('C', 'D', 'G'), 'Csus2'),\n",
       " ('C', ('C', 'E', 'G'), 'CM'),\n",
       " ('C', ('C', 'E', 'A'), 'CM6'),\n",
       " ('C', ('C', 'E', 'B'), 'CM7'),\n",
       " ('C', ('C', 'F', 'G'), 'Csus4'),\n",
       " ('C', ('C', 'G', 'B'), 'CM7'),\n",
       " ('C', ('D', 'E', 'A'), 'Dsus2'),\n",
       " ('C', ('D', 'F', 'A'), 'Dm'),\n",
       " ('C', ('D', 'F', 'B'), 'Dm6'),\n",
       " ('C', ('D', 'G', 'A'), 'Dsus4'),\n",
       " ('C', ('E', 'G', 'B'), 'Em'),\n",
       " ('C', ('E', 'A', 'B'), 'Esus4'),\n",
       " ('D', ('D', 'E', 'A'), 'Dsus2'),\n",
       " ('D', ('D', 'F', 'A'), 'Dm'),\n",
       " ('D', ('D', 'F', 'B'), 'Dm6'),\n",
       " ('D', ('D', 'F', 'C'), 'Dm7'),\n",
       " ('D', ('D', 'G', 'A'), 'Dsus4'),\n",
       " ('D', ('D', 'A', 'C'), 'Dm7'),\n",
       " ('D', ('E', 'G', 'B'), 'Em'),\n",
       " ('D', ('E', 'A', 'B'), 'Esus4'),\n",
       " ('D', ('F', 'G', 'C'), 'Fsus2'),\n",
       " ('D', ('F', 'A', 'C'), 'FM'),\n",
       " ('E', ('E', 'G', 'B'), 'Em'),\n",
       " ('E', ('E', 'G', 'D'), 'Em7'),\n",
       " ('E', ('E', 'A', 'B'), 'Esus4'),\n",
       " ('E', ('E', 'B', 'D'), 'Em7'),\n",
       " ('E', ('F', 'G', 'C'), 'Fsus2'),\n",
       " ('E', ('F', 'A', 'C'), 'FM'),\n",
       " ('E', ('F', 'A', 'D'), 'FM6'),\n",
       " ('E', ('G', 'A', 'D'), 'Gsus2'),\n",
       " ('E', ('G', 'B', 'D'), 'GM'),\n",
       " ('E', ('G', 'C', 'D'), 'Gsus4'),\n",
       " ('F', ('F', 'G', 'C'), 'Fsus2'),\n",
       " ('F', ('F', 'A', 'C'), 'FM'),\n",
       " ('F', ('F', 'A', 'D'), 'FM6'),\n",
       " ('F', ('F', 'A', 'E'), 'FM7'),\n",
       " ('F', ('F', 'C', 'E'), 'FM7'),\n",
       " ('F', ('G', 'A', 'D'), 'Gsus2'),\n",
       " ('F', ('G', 'B', 'D'), 'GM'),\n",
       " ('F', ('G', 'B', 'E'), 'GM6'),\n",
       " ('F', ('G', 'C', 'D'), 'Gsus4'),\n",
       " ('F', ('A', 'B', 'E'), 'Asus2'),\n",
       " ('F', ('A', 'C', 'E'), 'Am'),\n",
       " ('F', ('A', 'D', 'E'), 'Asus4'),\n",
       " ('G', ('G', 'A', 'D'), 'Gsus2'),\n",
       " ('G', ('G', 'B', 'D'), 'GM'),\n",
       " ('G', ('G', 'B', 'E'), 'GM6'),\n",
       " ('G', ('G', 'B', 'F'), 'Gdom7'),\n",
       " ('G', ('G', 'C', 'D'), 'Gsus4'),\n",
       " ('G', ('G', 'D', 'F'), 'Gm7'),\n",
       " ('G', ('A', 'B', 'E'), 'Asus2'),\n",
       " ('G', ('A', 'C', 'E'), 'Am'),\n",
       " ('G', ('A', 'D', 'E'), 'Asus4'),\n",
       " ('G', ('B', 'D', 'F'), 'Bdim'),\n",
       " ('A', ('A', 'B', 'E'), 'Asus2'),\n",
       " ('A', ('A', 'C', 'E'), 'Am'),\n",
       " ('A', ('A', 'C', 'G'), 'Am7'),\n",
       " ('A', ('A', 'D', 'E'), 'Asus4'),\n",
       " ('A', ('A', 'E', 'G'), 'Am7'),\n",
       " ('A', ('B', 'D', 'F'), 'Bdim'),\n",
       " ('A', ('C', 'D', 'G'), 'Csus2'),\n",
       " ('A', ('C', 'E', 'G'), 'CM'),\n",
       " ('A', ('C', 'F', 'G'), 'Csus4'),\n",
       " ('B', ('B', 'D', 'F'), 'Bdim'),\n",
       " ('B', ('B', 'D', 'A'), 'Bm7'),\n",
       " ('B', ('C', 'D', 'G'), 'Csus2'),\n",
       " ('B', ('C', 'E', 'G'), 'CM'),\n",
       " ('B', ('C', 'E', 'A'), 'CM6'),\n",
       " ('B', ('C', 'F', 'G'), 'Csus4'),\n",
       " ('B', ('D', 'E', 'A'), 'Dsus2'),\n",
       " ('B', ('D', 'F', 'A'), 'Dm'),\n",
       " ('B', ('D', 'G', 'A'), 'Dsus4'),\n",
       " ('C', ('C', 'E', 'G', 'A'), 'CM6'),\n",
       " ('C', ('C', 'E', 'G', 'B'), 'CM7'),\n",
       " ('C', ('D', 'F', 'A', 'B'), 'Dm6'),\n",
       " ('D', ('D', 'F', 'A', 'B'), 'Dm6'),\n",
       " ('D', ('D', 'F', 'A', 'C'), 'Dm7'),\n",
       " ('D', ('D', 'G', 'A', 'C'), 'Dsus47'),\n",
       " ('E', ('E', 'G', 'B', 'D'), 'Em7'),\n",
       " ('E', ('E', 'A', 'B', 'D'), 'Esus47'),\n",
       " ('E', ('F', 'A', 'C', 'D'), 'FM6'),\n",
       " ('F', ('F', 'A', 'C', 'D'), 'FM6'),\n",
       " ('F', ('F', 'A', 'C', 'E'), 'FM7'),\n",
       " ('F', ('G', 'B', 'D', 'E'), 'GM6'),\n",
       " ('G', ('G', 'B', 'D', 'E'), 'GM6'),\n",
       " ('G', ('G', 'B', 'D', 'F'), 'G7'),\n",
       " ('G', ('G', 'C', 'D', 'F'), 'Gsus47'),\n",
       " ('A', ('A', 'C', 'E', 'G'), 'Am7'),\n",
       " ('A', ('A', 'D', 'E', 'G'), 'Asus47'),\n",
       " ('B', ('B', 'D', 'F', 'A'), 'Bm7b5'),\n",
       " ('B', ('C', 'E', 'G', 'A'), 'CM6')]"
      ]
     },
     "execution_count": 100,
     "metadata": {},
     "output_type": "execute_result"
    }
   ],
   "source": [
    "[\n",
    "    (root, chord, name)\n",
    "    for k in range(3, 5)\n",
    "    for root in scale\n",
    "    for chord in combinations_with_replacement(tensions[root], k)\n",
    "    for name in chords.determine(list(chord), shorthand=True, no_inversions=True, no_polychords=True) \n",
    "]"
   ]
  },
  {
   "cell_type": "code",
   "execution_count": null,
   "metadata": {},
   "outputs": [],
   "source": []
  }
 ],
 "metadata": {
  "kernelspec": {
   "display_name": "Python 3",
   "language": "python",
   "name": "python3"
  },
  "language_info": {
   "codemirror_mode": {
    "name": "ipython",
    "version": 3
   },
   "file_extension": ".py",
   "mimetype": "text/x-python",
   "name": "python",
   "nbconvert_exporter": "python",
   "pygments_lexer": "ipython3",
   "version": "3.8.6"
  }
 },
 "nbformat": 4,
 "nbformat_minor": 4
}
