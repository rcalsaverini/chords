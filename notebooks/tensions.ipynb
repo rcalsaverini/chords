{
 "metadata": {
  "language_info": {
   "codemirror_mode": {
    "name": "ipython",
    "version": 3
   },
   "file_extension": ".py",
   "mimetype": "text/x-python",
   "name": "python",
   "nbconvert_exporter": "python",
   "pygments_lexer": "ipython3",
   "version": "3.8.6-final"
  },
  "orig_nbformat": 2,
  "kernelspec": {
   "name": "python3",
   "display_name": "Python 3"
  }
 },
 "nbformat": 4,
 "nbformat_minor": 2,
 "cells": [
  {
   "cell_type": "code",
   "execution_count": 3,
   "metadata": {},
   "outputs": [],
   "source": [
    "import sys\n",
    "sys.path.insert(0,'..')\n"
   ]
  },
  {
   "cell_type": "code",
   "execution_count": 9,
   "metadata": {},
   "outputs": [],
   "source": [
    "from chords.types import *\n",
    "\n",
    "note = Note(C, NATURAL)"
   ]
  },
  {
   "cell_type": "code",
   "execution_count": 16,
   "metadata": {},
   "outputs": [],
   "source": [
    "def scale_from_string(string):\n",
    "    return [note_from_str(note) for note in string.split()]"
   ]
  },
  {
   "cell_type": "code",
   "execution_count": 18,
   "metadata": {},
   "outputs": [],
   "source": [
    "major = scale_from_string(\"C D E F G A B\")"
   ]
  },
  {
   "cell_type": "code",
   "execution_count": 20,
   "metadata": {},
   "outputs": [
    {
     "output_type": "execute_result",
     "data": {
      "text/plain": [
       "[Interval(quality=<Quality.PERFECT: 0>, number=<Number.UNISON: 0>),\n",
       " Interval(quality=<Quality.MAJOR: 1>, number=<Number.SECOND: 1>),\n",
       " Interval(quality=<Quality.MAJOR: 1>, number=<Number.THIRD: 3>),\n",
       " Interval(quality=<Quality.PERFECT: 0>, number=<Number.FOURTH: 5>),\n",
       " Interval(quality=<Quality.PERFECT: 0>, number=<Number.FIFTH: 7>),\n",
       " Interval(quality=<Quality.MAJOR: 1>, number=<Number.SIXTH: 8>),\n",
       " Interval(quality=<Quality.MAJOR: 1>, number=<Number.SEVENTH: 10>)]"
      ]
     },
     "metadata": {},
     "execution_count": 20
    }
   ],
   "source": [
    "[note - Note(C, NATURAL) for note in major]"
   ]
  }
 ]
}